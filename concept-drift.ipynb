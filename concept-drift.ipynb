{
 "cells": [
  {
   "cell_type": "code",
   "execution_count": 1,
   "metadata": {},
   "outputs": [],
   "source": [
    "import os\n",
    "import sys\n",
    "\n",
    "import numpy as np"
   ]
  },
  {
   "cell_type": "code",
   "execution_count": 2,
   "metadata": {},
   "outputs": [],
   "source": [
    "from read_values import get_dataframe\n",
    "from calculate import calculate_drift, plot_drift"
   ]
  },
  {
   "cell_type": "code",
   "execution_count": 3,
   "metadata": {},
   "outputs": [
    {
     "name": "stdout",
     "output_type": "stream",
     "text": [
      "Extracting sta2.tar.xz\n",
      "Extracting removed.tar.xz\n",
      "Extracting ap.tar.xz\n",
      "Extracting ctrl.tar.xz\n",
      "Extracting sta1.tar.xz\n",
      "Reading temp/ctrl\n",
      "Found 237646\n"
     ]
    }
   ],
   "source": [
    "data = get_dataframe()"
   ]
  },
  {
   "cell_type": "markdown",
   "metadata": {},
   "source": [
    "# Concept Drift ADWIN"
   ]
  },
  {
   "cell_type": "markdown",
   "metadata": {},
   "source": [
    "__ADWIN__\n",
    "\n",
    "* BIFET, Albert; GAVALDA, Ricard. Learning from time-changing data with adaptive windowing. In: Proceedings of the 2007 SIAM international conference on data mining. Society for Industrial and Applied Mathematics, 2007. p. 443-448.\n",
    "\n",
    "\n",
    "__Page-Hinckley Test__\n",
    "\n",
    "* GAMA, João; SEBASTIÃO, Raquel; RODRIGUES, Pedro Pereira. On evaluating stream learning algorithms. Machine learning, v. 90, n. 3, p. 317-346, 2013."
   ]
  },
  {
   "cell_type": "markdown",
   "metadata": {},
   "source": [
    "## Only Google"
   ]
  },
  {
   "cell_type": "code",
   "execution_count": 4,
   "metadata": {},
   "outputs": [],
   "source": [
    "data1 = data[data['sites'] == ('google', 'google')]"
   ]
  },
  {
   "cell_type": "code",
   "execution_count": 5,
   "metadata": {},
   "outputs": [],
   "source": [
    "y1 = data1['r']\n",
    "y1 = np.sign(np.concatenate(([1], y1[1:].values - y1[:-1].values)))\n",
    "y1[y1==-1] = 0  # y will have only 0s and 1s"
   ]
  },
  {
   "cell_type": "code",
   "execution_count": 6,
   "metadata": {},
   "outputs": [],
   "source": [
    "X1 = data1[['Active time', 'Medium busy', 'channel',\n",
    "            'new Active time', 'new Busy time', 'new Medium busy',\n",
    "            'new_channel', 'new_txpower', 'txpower']].values"
   ]
  },
  {
   "cell_type": "code",
   "execution_count": null,
   "metadata": {},
   "outputs": [],
   "source": [
    "result = calculate_drift(X1, y1, n_train=1800, w=16)"
   ]
  },
  {
   "cell_type": "code",
   "execution_count": null,
   "metadata": {},
   "outputs": [],
   "source": [
    "result"
   ]
  },
  {
   "cell_type": "code",
   "execution_count": null,
   "metadata": {},
   "outputs": [],
   "source": [
    "plot_drift(result)"
   ]
  },
  {
   "cell_type": "markdown",
   "metadata": {},
   "source": [
    "# Only one experiment"
   ]
  },
  {
   "cell_type": "code",
   "execution_count": null,
   "metadata": {},
   "outputs": [],
   "source": [
    "interval = 1800"
   ]
  },
  {
   "cell_type": "code",
   "execution_count": null,
   "metadata": {
    "scrolled": false
   },
   "outputs": [],
   "source": [
    "for i in range(10):\n",
    "    li = interval * i\n",
    "    ls = li + 1800\n",
    "    y1 = y[li:ls]\n",
    "    X1 = X[li:ls]\n",
    "    print(\"Experiment #{} from {} to {}\".format(i, li, ls))\n",
    "    result = calculate_drift(X1, y1, n_train=100, w=16, clfs_label=[\"AdWin\"])\n",
    "    plot_drift(result)"
   ]
  },
  {
   "cell_type": "markdown",
   "metadata": {},
   "source": [
    "# Changing lambda from Page-Hinkley"
   ]
  },
  {
   "cell_type": "code",
   "execution_count": null,
   "metadata": {
    "scrolled": false
   },
   "outputs": [],
   "source": [
    "i = 7\n",
    "for lambda_ in [10, 20, 30, 40, 50, 100]:\n",
    "    li = interval * i\n",
    "    ls = li + 1800\n",
    "    y1 = y[li:ls]\n",
    "    X1 = X[li:ls]\n",
    "    print(\"Experiment #{} from {} to {} - lambda={}\".format(i, li, ls, lambda_))\n",
    "    result = calculate_drift(X1, y1, n_train=100, w=16, lambda_=lambda_, \n",
    "                             clfs_label=[\"Page-Hinkley\"],\n",
    "                             plot_circles=[\"Page-Hinkley\"],\n",
    "                             )\n",
    "    plot_drift(result)"
   ]
  },
  {
   "cell_type": "markdown",
   "metadata": {},
   "source": [
    "# varying the window size"
   ]
  },
  {
   "cell_type": "code",
   "execution_count": null,
   "metadata": {},
   "outputs": [],
   "source": [
    "y = data['r']\n",
    "y = np.sign(np.concatenate(([1], y[1:].values - y[:-1].values)))\n",
    "y[y==-1] = 0  # y will have only 0s and 1s"
   ]
  },
  {
   "cell_type": "code",
   "execution_count": null,
   "metadata": {},
   "outputs": [],
   "source": [
    "X = data[['Active time', 'Medium busy', 'channel',\n",
    "       'new Active time', 'new Busy time', 'new Medium busy',\n",
    "       'new_channel', 'new_txpower', 'txpower']].values"
   ]
  },
  {
   "cell_type": "code",
   "execution_count": null,
   "metadata": {},
   "outputs": [],
   "source": [
    "n_train = 60 * 30  # 30 minutes"
   ]
  },
  {
   "cell_type": "code",
   "execution_count": null,
   "metadata": {},
   "outputs": [],
   "source": [
    "num_files = data['file_id'].unique().shape[0]"
   ]
  },
  {
   "cell_type": "code",
   "execution_count": null,
   "metadata": {},
   "outputs": [],
   "source": [
    "for w in [16, 32, 64, 128, 256, 512]:\n",
    "    result = calculate_drift(X, y, n_train=1000, w=w)\n",
    "    plot_drift(result)\n",
    "    print(\"On average\", result.get(\"AdWin\", 0) / num_files, \"in AdWin\")"
   ]
  },
  {
   "cell_type": "code",
   "execution_count": null,
   "metadata": {},
   "outputs": [],
   "source": []
  },
  {
   "cell_type": "code",
   "execution_count": null,
   "metadata": {},
   "outputs": [],
   "source": []
  }
 ],
 "metadata": {
  "kernelspec": {
   "display_name": "Python 3",
   "language": "python",
   "name": "python3"
  },
  "language_info": {
   "codemirror_mode": {
    "name": "ipython",
    "version": 3
   },
   "file_extension": ".py",
   "mimetype": "text/x-python",
   "name": "python",
   "nbconvert_exporter": "python",
   "pygments_lexer": "ipython3",
   "version": "3.6.8"
  }
 },
 "nbformat": 4,
 "nbformat_minor": 2
}
