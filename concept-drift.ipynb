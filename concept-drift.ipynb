{
 "cells": [
  {
   "cell_type": "code",
   "execution_count": 36,
   "metadata": {},
   "outputs": [],
   "source": [
    "import os\n",
    "import re\n",
    "import glob"
   ]
  },
  {
   "cell_type": "code",
   "execution_count": 37,
   "metadata": {},
   "outputs": [],
   "source": [
    "import matplotlib.pyplot as plt\n",
    "import numpy as np\n",
    "import pandas as pd\n",
    "\n",
    "from sklearn.naive_bayes import GaussianNB\n",
    "\n",
    "from classifier.detector_classifier import DetectorClassifier\n",
    "from concept_drift.adwin import AdWin\n",
    "from concept_drift.page_hinkley import PageHinkley\n",
    "from evaluation.prequential import prequential"
   ]
  },
  {
   "cell_type": "code",
   "execution_count": 25,
   "metadata": {},
   "outputs": [],
   "source": [
    "def get_values(dir_ctrl):\n",
    "    print(\"Reading\",dir_ctrl)\n",
    "    files = glob.glob(os.path.join(dir_ctrl, '*.log'))\n",
    "    sarss = []\n",
    "    sars = None\n",
    "    file_id = 0\n",
    "    for filename in sorted(files):\n",
    "        with open(filename, 'r') as f:\n",
    "            lines = f.readlines()\n",
    "        for i in range(len(lines)):\n",
    "            _l = lines[i]\n",
    "            if 'iteration' in _l:\n",
    "                sars = None\n",
    "            if 'Frequency: ' in _l:\n",
    "                f = re.findall(r\"[-+]?\\d*\\.\\d+|\\d+\", _l)\n",
    "                if len(f) == 10:\n",
    "                    # ok\n",
    "                    sars = dict(zip(['Frequency', 'Medium busy', 'Busy time', 'Active time'], f[6:]))\n",
    "            elif sars is not None:\n",
    "                # ok, got at least Frequency...\n",
    "                if '] AP0 txpower:' in _l:\n",
    "                    f = re.findall(r\"[-+]?\\d*\\.\\d+|\\d+\", _l)\n",
    "                    if len(f) == 11:\n",
    "                        sars.update(dict(zip(['txpower', 'new_txpower', 'channel', 'new_channel'], f[7:])))\n",
    "                    if 'new Medium busy' in sars:\n",
    "                        sars.update({'file_id': file_id})\n",
    "                        file_id += 1\n",
    "                        sarss.append(sars)\n",
    "                    sars = None\n",
    "                elif '] rewards:' in _l:\n",
    "                    sars['r'] = _l.split('] rewards:')[1].replace('\\n', '').strip()\n",
    "                    if 'None' in sars['r'] :\n",
    "                        sars = None  # error, skip\n",
    "                    else:\n",
    "                        try:\n",
    "                            ## find new state\n",
    "                            for j in range(1, 10):\n",
    "                                _ll = lines[i + j]\n",
    "                                if 'Frequency: ' in _ll:                                  \n",
    "                                    f = re.findall(r\"[-+]?\\d*\\.\\d+|\\d+\", _ll)\n",
    "                                    if len(f) == 10:\n",
    "                                        # ok\n",
    "                                        new_sars = dict(zip(['new Medium busy', 'new Busy time', 'new Active time'], f[7:]))\n",
    "                                        sars.update(new_sars)\n",
    "                                    break\n",
    "                        except (KeyError, IndexError):\n",
    "                            sars = None  # error skip\n",
    "    return sarss"
   ]
  },
  {
   "cell_type": "markdown",
   "metadata": {},
   "source": [
    "## create a temporary dir"
   ]
  },
  {
   "cell_type": "code",
   "execution_count": 3,
   "metadata": {},
   "outputs": [],
   "source": [
    "TEMP = 'temp'\n",
    "if not os.path.exists(TEMP):\n",
    "    os.mkdir(TEMP)"
   ]
  },
  {
   "cell_type": "markdown",
   "metadata": {},
   "source": [
    "# extract MAB results to TEMP"
   ]
  },
  {
   "cell_type": "code",
   "execution_count": 4,
   "metadata": {},
   "outputs": [],
   "source": [
    "files = glob.glob('../MAB1/data/*.tar.xz')"
   ]
  },
  {
   "cell_type": "code",
   "execution_count": 9,
   "metadata": {},
   "outputs": [
    {
     "name": "stdout",
     "output_type": "stream",
     "text": [
      "Extracting sta2.tar.xz\n",
      "Extracting removed.tar.xz\n",
      "Extracting ap.tar.xz\n",
      "Extracting ctrl.tar.xz\n",
      "Extracting sta1.tar.xz\n"
     ]
    }
   ],
   "source": [
    "for f in files:\n",
    "    print(\"Extracting {}\".format(os.path.basename(f)))\n",
    "    s = \"tar -C {} -xJf {}\".format(TEMP, f)\n",
    "    # print(s)\n",
    "    os.system(s)"
   ]
  },
  {
   "cell_type": "code",
   "execution_count": 26,
   "metadata": {
    "scrolled": false
   },
   "outputs": [
    {
     "name": "stdout",
     "output_type": "stream",
     "text": [
      "Reading temp/ctrl\n"
     ]
    }
   ],
   "source": [
    "sarss = get_values(os.path.join(TEMP, 'ctrl'))"
   ]
  },
  {
   "cell_type": "code",
   "execution_count": 27,
   "metadata": {
    "scrolled": true
   },
   "outputs": [
    {
     "name": "stdout",
     "output_type": "stream",
     "text": [
      "Found 237646\n"
     ]
    }
   ],
   "source": [
    "print(\"Found\", len(sarss))"
   ]
  },
  {
   "cell_type": "code",
   "execution_count": 35,
   "metadata": {},
   "outputs": [
    {
     "data": {
      "text/plain": [
       "0"
      ]
     },
     "execution_count": 35,
     "metadata": {},
     "output_type": "execute_result"
    }
   ],
   "source": [
    "os.system(\"rm -fr {}\".format(TEMP))"
   ]
  },
  {
   "cell_type": "code",
   "execution_count": 31,
   "metadata": {},
   "outputs": [],
   "source": [
    "data = pd.DataFrame(sarss)"
   ]
  },
  {
   "cell_type": "code",
   "execution_count": 94,
   "metadata": {
    "scrolled": true
   },
   "outputs": [],
   "source": [
    "y = data['r'].astype('float')\n",
    "y = np.sign(np.concatenate(([1], y[1:].values - y[:-1].values)))\n",
    "y[y==-1] = 0  # y will have only 0s and 1s"
   ]
  },
  {
   "cell_type": "code",
   "execution_count": 83,
   "metadata": {
    "scrolled": true
   },
   "outputs": [],
   "source": [
    "X = data[['Active time', 'Medium busy', 'channel',\n",
    "       'new Active time', 'new Busy time', 'new Medium busy',\n",
    "       'new_channel', 'new_txpower', 'txpower']].values"
   ]
  },
  {
   "cell_type": "markdown",
   "metadata": {},
   "source": [
    "# Concept Drift ADWIN"
   ]
  },
  {
   "cell_type": "code",
   "execution_count": 95,
   "metadata": {},
   "outputs": [],
   "source": [
    "n_train = 1000 # X.shape[0]"
   ]
  },
  {
   "cell_type": "code",
   "execution_count": 96,
   "metadata": {},
   "outputs": [],
   "source": [
    "# window size\n",
    "w = 100"
   ]
  },
  {
   "cell_type": "code",
   "execution_count": 97,
   "metadata": {},
   "outputs": [
    {
     "name": "stdout",
     "output_type": "stream",
     "text": [
      "\n",
      "GaussianNB:\n",
      "Mean acc within the window 100: 0.8668605004944094\n",
      "\n",
      "Page-Hinkley:\n",
      "Drift detection: 72\n",
      "Mean acc within the window 100: 0.7386264716073797\n",
      "\n",
      "AdWin:\n",
      "Drift detection: 677\n",
      "Mean acc within the window 100: 0.8022151230107419\n"
     ]
    },
    {
     "data": {
      "image/png": "[encoded data removed]",
      "text/plain": [
       "<Figure size 432x288 with 1 Axes>"
      ]
     },
     "metadata": {
      "needs_background": "light"
     },
     "output_type": "display_data"
    }
   ],
   "source": [
    "clfs = [\n",
    "    GaussianNB(),\n",
    "    DetectorClassifier(GaussianNB(), PageHinkley(), np.unique(y)),\n",
    "    DetectorClassifier(GaussianNB(), AdWin(), np.unique(y))\n",
    "]\n",
    "clfs_label = [\"GaussianNB\", \"Page-Hinkley\", \"AdWin\"]\n",
    "\n",
    "plt.title(\"Accuracy (exact match)\")\n",
    "plt.xlabel(\"Instances\")\n",
    "plt.ylabel(\"Accuracy\")\n",
    "\n",
    "for i in range(len(clfs)):\n",
    "    print(\"\\n{}:\".format(clfs_label[i]))\n",
    "    with np.errstate(divide='ignore', invalid='ignore'):\n",
    "        y_pre, time = prequential(X, y, clfs[i], n_train)\n",
    "    if clfs[i].__class__.__name__ == \"DetectorClassifier\":\n",
    "        print(\"Drift detection: {}\".format(clfs[i].change_detected))\n",
    "    estimator = (y[n_train:] == y_pre) * 1\n",
    "\n",
    "    acc_run = np.convolve(estimator, np.ones((w,)) / w, 'same')\n",
    "    print(\"Mean acc within the window {}: {}\".format(w, np.mean(acc_run)))\n",
    "    plt.plot(acc_run, \"-\", label=clfs_label[i])\n",
    "\n",
    "plt.legend(loc='lower right')\n",
    "plt.ylim([0, 1])\n",
    "plt.show()"
   ]
  },
  {
   "cell_type": "code",
   "execution_count": null,
   "metadata": {},
   "outputs": [],
   "source": []
  }
 ],
 "metadata": {
  "kernelspec": {
   "display_name": "Python 3",
   "language": "python",
   "name": "python3"
  },
  "language_info": {
   "codemirror_mode": {
    "name": "ipython",
    "version": 3
   },
   "file_extension": ".py",
   "mimetype": "text/x-python",
   "name": "python",
   "nbconvert_exporter": "python",
   "pygments_lexer": "ipython3",
   "version": "3.6.8"
  }
 },
 "nbformat": 4,
 "nbformat_minor": 2
}
